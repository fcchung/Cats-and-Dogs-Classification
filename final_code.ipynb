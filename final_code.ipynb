{
 "cells": [
  {
   "cell_type": "markdown",
   "id": "77c78782",
   "metadata": {},
   "source": [
    "# Import Data"
   ]
  },
  {
   "cell_type": "code",
   "execution_count": 3,
   "id": "f37016fc",
   "metadata": {},
   "outputs": [],
   "source": [
    "import os"
   ]
  },
  {
   "cell_type": "code",
   "execution_count": 5,
   "id": "a35d5e11",
   "metadata": {},
   "outputs": [],
   "source": [
    "TRAIN_DIR = './train'\n",
    "TEST_DIR = './test1'\n",
    "\n",
    "train = os.listdir(TRAIN_DIR)\n",
    "test = os.listdir(TEST_DIR)"
   ]
  },
  {
   "cell_type": "markdown",
   "id": "d1baf0fd",
   "metadata": {},
   "source": [
    "# Build Models"
   ]
  },
  {
   "cell_type": "markdown",
   "id": "88d08e1c",
   "metadata": {},
   "source": [
    "# Test Results"
   ]
  }
 ],
 "metadata": {
  "kernelspec": {
   "display_name": "Python 3",
   "language": "python",
   "name": "python3"
  },
  "language_info": {
   "codemirror_mode": {
    "name": "ipython",
    "version": 3
   },
   "file_extension": ".py",
   "mimetype": "text/x-python",
   "name": "python",
   "nbconvert_exporter": "python",
   "pygments_lexer": "ipython3",
   "version": "3.8.8"
  }
 },
 "nbformat": 4,
 "nbformat_minor": 5
}
